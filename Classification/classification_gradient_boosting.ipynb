{
 "cells": [
  {
   "cell_type": "markdown",
   "id": "b9adbca3-0f9f-4e1b-bbc3-1df7650df7c9",
   "metadata": {},
   "source": [
    "## Build Gradient Boosting Model"
   ]
  },
  {
   "cell_type": "code",
   "execution_count": 1,
   "id": "78e1fc90-2df0-46ab-9efa-dd551f7ed1ea",
   "metadata": {},
   "outputs": [],
   "source": [
    "# Import relevant libraries and modules\n",
    "import numpy as np\n",
    "import pandas as pd\n",
    "import matplotlib.pyplot as plt\n",
    "import seaborn as sns\n",
    "\n",
    "from sklearn.model_selection import train_test_split, GridSearchCV\n",
    "from sklearn.model_selection import PredefinedSplit\n",
    "\n",
    "from sklearn.metrics import accuracy_score, precision_score, recall_score, f1_score\n",
    "from sklearn.metrics import confusion_matrix, ConfusionMatrixDisplay\n",
    "\n",
    "from xgboost import XGBClassifier\n",
    "from xgboost import plot_importance\n",
    "\n",
    "import pickle\n",
    "import warnings\n",
    "#warnings.filterwarnings('error', category=DeprecationWarning)\n",
    "warnings.filterwarnings('ignore')"
   ]
  },
  {
   "cell_type": "markdown",
   "id": "cc61caad-2d89-45e4-9170-c6b24848173d",
   "metadata": {},
   "source": [
    "### Step 1: Data Wrangling"
   ]
  },
  {
   "cell_type": "code",
   "execution_count": 2,
   "id": "133f168e-e3a8-4293-af3f-c7edd3f486a0",
   "metadata": {},
   "outputs": [],
   "source": [
    "# Create dataframe\n",
    "df_original = pd.read_csv(\"Invistico_Airline.csv\")"
   ]
  },
  {
   "cell_type": "code",
   "execution_count": 3,
   "id": "a5802f8b-9aa6-4801-a2bc-98c8d887ae35",
   "metadata": {},
   "outputs": [
    {
     "data": {
      "text/plain": [
       "(129880, 22)"
      ]
     },
     "execution_count": 3,
     "metadata": {},
     "output_type": "execute_result"
    }
   ],
   "source": [
    "df_original.shape"
   ]
  },
  {
   "cell_type": "code",
   "execution_count": 4,
   "id": "7786a28e-df52-4b5c-82cb-a1b229804c12",
   "metadata": {},
   "outputs": [
    {
     "data": {
      "text/html": [
       "<div>\n",
       "<style scoped>\n",
       "    .dataframe tbody tr th:only-of-type {\n",
       "        vertical-align: middle;\n",
       "    }\n",
       "\n",
       "    .dataframe tbody tr th {\n",
       "        vertical-align: top;\n",
       "    }\n",
       "\n",
       "    .dataframe thead th {\n",
       "        text-align: right;\n",
       "    }\n",
       "</style>\n",
       "<table border=\"1\" class=\"dataframe\">\n",
       "  <thead>\n",
       "    <tr style=\"text-align: right;\">\n",
       "      <th></th>\n",
       "      <th>satisfaction</th>\n",
       "      <th>Customer Type</th>\n",
       "      <th>Age</th>\n",
       "      <th>Type of Travel</th>\n",
       "      <th>Class</th>\n",
       "      <th>Flight Distance</th>\n",
       "      <th>Seat comfort</th>\n",
       "      <th>Departure/Arrival time convenient</th>\n",
       "      <th>Food and drink</th>\n",
       "      <th>Gate location</th>\n",
       "      <th>...</th>\n",
       "      <th>Online support</th>\n",
       "      <th>Ease of Online booking</th>\n",
       "      <th>On-board service</th>\n",
       "      <th>Leg room service</th>\n",
       "      <th>Baggage handling</th>\n",
       "      <th>Checkin service</th>\n",
       "      <th>Cleanliness</th>\n",
       "      <th>Online boarding</th>\n",
       "      <th>Departure Delay in Minutes</th>\n",
       "      <th>Arrival Delay in Minutes</th>\n",
       "    </tr>\n",
       "  </thead>\n",
       "  <tbody>\n",
       "    <tr>\n",
       "      <th>0</th>\n",
       "      <td>satisfied</td>\n",
       "      <td>Loyal Customer</td>\n",
       "      <td>65</td>\n",
       "      <td>Personal Travel</td>\n",
       "      <td>Eco</td>\n",
       "      <td>265</td>\n",
       "      <td>0</td>\n",
       "      <td>0</td>\n",
       "      <td>0</td>\n",
       "      <td>2</td>\n",
       "      <td>...</td>\n",
       "      <td>2</td>\n",
       "      <td>3</td>\n",
       "      <td>3</td>\n",
       "      <td>0</td>\n",
       "      <td>3</td>\n",
       "      <td>5</td>\n",
       "      <td>3</td>\n",
       "      <td>2</td>\n",
       "      <td>0</td>\n",
       "      <td>0.0</td>\n",
       "    </tr>\n",
       "    <tr>\n",
       "      <th>1</th>\n",
       "      <td>satisfied</td>\n",
       "      <td>Loyal Customer</td>\n",
       "      <td>47</td>\n",
       "      <td>Personal Travel</td>\n",
       "      <td>Business</td>\n",
       "      <td>2464</td>\n",
       "      <td>0</td>\n",
       "      <td>0</td>\n",
       "      <td>0</td>\n",
       "      <td>3</td>\n",
       "      <td>...</td>\n",
       "      <td>2</td>\n",
       "      <td>3</td>\n",
       "      <td>4</td>\n",
       "      <td>4</td>\n",
       "      <td>4</td>\n",
       "      <td>2</td>\n",
       "      <td>3</td>\n",
       "      <td>2</td>\n",
       "      <td>310</td>\n",
       "      <td>305.0</td>\n",
       "    </tr>\n",
       "    <tr>\n",
       "      <th>2</th>\n",
       "      <td>satisfied</td>\n",
       "      <td>Loyal Customer</td>\n",
       "      <td>15</td>\n",
       "      <td>Personal Travel</td>\n",
       "      <td>Eco</td>\n",
       "      <td>2138</td>\n",
       "      <td>0</td>\n",
       "      <td>0</td>\n",
       "      <td>0</td>\n",
       "      <td>3</td>\n",
       "      <td>...</td>\n",
       "      <td>2</td>\n",
       "      <td>2</td>\n",
       "      <td>3</td>\n",
       "      <td>3</td>\n",
       "      <td>4</td>\n",
       "      <td>4</td>\n",
       "      <td>4</td>\n",
       "      <td>2</td>\n",
       "      <td>0</td>\n",
       "      <td>0.0</td>\n",
       "    </tr>\n",
       "    <tr>\n",
       "      <th>3</th>\n",
       "      <td>satisfied</td>\n",
       "      <td>Loyal Customer</td>\n",
       "      <td>60</td>\n",
       "      <td>Personal Travel</td>\n",
       "      <td>Eco</td>\n",
       "      <td>623</td>\n",
       "      <td>0</td>\n",
       "      <td>0</td>\n",
       "      <td>0</td>\n",
       "      <td>3</td>\n",
       "      <td>...</td>\n",
       "      <td>3</td>\n",
       "      <td>1</td>\n",
       "      <td>1</td>\n",
       "      <td>0</td>\n",
       "      <td>1</td>\n",
       "      <td>4</td>\n",
       "      <td>1</td>\n",
       "      <td>3</td>\n",
       "      <td>0</td>\n",
       "      <td>0.0</td>\n",
       "    </tr>\n",
       "    <tr>\n",
       "      <th>4</th>\n",
       "      <td>satisfied</td>\n",
       "      <td>Loyal Customer</td>\n",
       "      <td>70</td>\n",
       "      <td>Personal Travel</td>\n",
       "      <td>Eco</td>\n",
       "      <td>354</td>\n",
       "      <td>0</td>\n",
       "      <td>0</td>\n",
       "      <td>0</td>\n",
       "      <td>3</td>\n",
       "      <td>...</td>\n",
       "      <td>4</td>\n",
       "      <td>2</td>\n",
       "      <td>2</td>\n",
       "      <td>0</td>\n",
       "      <td>2</td>\n",
       "      <td>4</td>\n",
       "      <td>2</td>\n",
       "      <td>5</td>\n",
       "      <td>0</td>\n",
       "      <td>0.0</td>\n",
       "    </tr>\n",
       "  </tbody>\n",
       "</table>\n",
       "<p>5 rows × 22 columns</p>\n",
       "</div>"
      ],
      "text/plain": [
       "  satisfaction   Customer Type  Age   Type of Travel     Class  \\\n",
       "0    satisfied  Loyal Customer   65  Personal Travel       Eco   \n",
       "1    satisfied  Loyal Customer   47  Personal Travel  Business   \n",
       "2    satisfied  Loyal Customer   15  Personal Travel       Eco   \n",
       "3    satisfied  Loyal Customer   60  Personal Travel       Eco   \n",
       "4    satisfied  Loyal Customer   70  Personal Travel       Eco   \n",
       "\n",
       "   Flight Distance  Seat comfort  Departure/Arrival time convenient  \\\n",
       "0              265             0                                  0   \n",
       "1             2464             0                                  0   \n",
       "2             2138             0                                  0   \n",
       "3              623             0                                  0   \n",
       "4              354             0                                  0   \n",
       "\n",
       "   Food and drink  Gate location  ...  Online support  Ease of Online booking  \\\n",
       "0               0              2  ...               2                       3   \n",
       "1               0              3  ...               2                       3   \n",
       "2               0              3  ...               2                       2   \n",
       "3               0              3  ...               3                       1   \n",
       "4               0              3  ...               4                       2   \n",
       "\n",
       "   On-board service  Leg room service  Baggage handling  Checkin service  \\\n",
       "0                 3                 0                 3                5   \n",
       "1                 4                 4                 4                2   \n",
       "2                 3                 3                 4                4   \n",
       "3                 1                 0                 1                4   \n",
       "4                 2                 0                 2                4   \n",
       "\n",
       "   Cleanliness  Online boarding  Departure Delay in Minutes  \\\n",
       "0            3                2                           0   \n",
       "1            3                2                         310   \n",
       "2            4                2                           0   \n",
       "3            1                3                           0   \n",
       "4            2                5                           0   \n",
       "\n",
       "   Arrival Delay in Minutes  \n",
       "0                       0.0  \n",
       "1                     305.0  \n",
       "2                       0.0  \n",
       "3                       0.0  \n",
       "4                       0.0  \n",
       "\n",
       "[5 rows x 22 columns]"
      ]
     },
     "execution_count": 4,
     "metadata": {},
     "output_type": "execute_result"
    }
   ],
   "source": [
    "df_original.head()"
   ]
  },
  {
   "cell_type": "code",
   "execution_count": 5,
   "id": "c534dc0e-3274-443c-b624-2652bfec658c",
   "metadata": {},
   "outputs": [
    {
     "data": {
      "text/html": [
       "<div>\n",
       "<style scoped>\n",
       "    .dataframe tbody tr th:only-of-type {\n",
       "        vertical-align: middle;\n",
       "    }\n",
       "\n",
       "    .dataframe tbody tr th {\n",
       "        vertical-align: top;\n",
       "    }\n",
       "\n",
       "    .dataframe thead th {\n",
       "        text-align: right;\n",
       "    }\n",
       "</style>\n",
       "<table border=\"1\" class=\"dataframe\">\n",
       "  <thead>\n",
       "    <tr style=\"text-align: right;\">\n",
       "      <th></th>\n",
       "      <th>count</th>\n",
       "      <th>mean</th>\n",
       "      <th>std</th>\n",
       "      <th>min</th>\n",
       "      <th>25%</th>\n",
       "      <th>50%</th>\n",
       "      <th>75%</th>\n",
       "      <th>max</th>\n",
       "    </tr>\n",
       "  </thead>\n",
       "  <tbody>\n",
       "    <tr>\n",
       "      <th>Age</th>\n",
       "      <td>129880.0</td>\n",
       "      <td>39.427957</td>\n",
       "      <td>15.119360</td>\n",
       "      <td>7.0</td>\n",
       "      <td>27.0</td>\n",
       "      <td>40.0</td>\n",
       "      <td>51.0</td>\n",
       "      <td>85.0</td>\n",
       "    </tr>\n",
       "    <tr>\n",
       "      <th>Flight Distance</th>\n",
       "      <td>129880.0</td>\n",
       "      <td>1981.409055</td>\n",
       "      <td>1027.115606</td>\n",
       "      <td>50.0</td>\n",
       "      <td>1359.0</td>\n",
       "      <td>1925.0</td>\n",
       "      <td>2544.0</td>\n",
       "      <td>6951.0</td>\n",
       "    </tr>\n",
       "    <tr>\n",
       "      <th>Seat comfort</th>\n",
       "      <td>129880.0</td>\n",
       "      <td>2.838597</td>\n",
       "      <td>1.392983</td>\n",
       "      <td>0.0</td>\n",
       "      <td>2.0</td>\n",
       "      <td>3.0</td>\n",
       "      <td>4.0</td>\n",
       "      <td>5.0</td>\n",
       "    </tr>\n",
       "    <tr>\n",
       "      <th>Departure/Arrival time convenient</th>\n",
       "      <td>129880.0</td>\n",
       "      <td>2.990645</td>\n",
       "      <td>1.527224</td>\n",
       "      <td>0.0</td>\n",
       "      <td>2.0</td>\n",
       "      <td>3.0</td>\n",
       "      <td>4.0</td>\n",
       "      <td>5.0</td>\n",
       "    </tr>\n",
       "    <tr>\n",
       "      <th>Food and drink</th>\n",
       "      <td>129880.0</td>\n",
       "      <td>2.851994</td>\n",
       "      <td>1.443729</td>\n",
       "      <td>0.0</td>\n",
       "      <td>2.0</td>\n",
       "      <td>3.0</td>\n",
       "      <td>4.0</td>\n",
       "      <td>5.0</td>\n",
       "    </tr>\n",
       "    <tr>\n",
       "      <th>Gate location</th>\n",
       "      <td>129880.0</td>\n",
       "      <td>2.990422</td>\n",
       "      <td>1.305970</td>\n",
       "      <td>0.0</td>\n",
       "      <td>2.0</td>\n",
       "      <td>3.0</td>\n",
       "      <td>4.0</td>\n",
       "      <td>5.0</td>\n",
       "    </tr>\n",
       "    <tr>\n",
       "      <th>Inflight wifi service</th>\n",
       "      <td>129880.0</td>\n",
       "      <td>3.249130</td>\n",
       "      <td>1.318818</td>\n",
       "      <td>0.0</td>\n",
       "      <td>2.0</td>\n",
       "      <td>3.0</td>\n",
       "      <td>4.0</td>\n",
       "      <td>5.0</td>\n",
       "    </tr>\n",
       "    <tr>\n",
       "      <th>Inflight entertainment</th>\n",
       "      <td>129880.0</td>\n",
       "      <td>3.383477</td>\n",
       "      <td>1.346059</td>\n",
       "      <td>0.0</td>\n",
       "      <td>2.0</td>\n",
       "      <td>4.0</td>\n",
       "      <td>4.0</td>\n",
       "      <td>5.0</td>\n",
       "    </tr>\n",
       "    <tr>\n",
       "      <th>Online support</th>\n",
       "      <td>129880.0</td>\n",
       "      <td>3.519703</td>\n",
       "      <td>1.306511</td>\n",
       "      <td>0.0</td>\n",
       "      <td>3.0</td>\n",
       "      <td>4.0</td>\n",
       "      <td>5.0</td>\n",
       "      <td>5.0</td>\n",
       "    </tr>\n",
       "    <tr>\n",
       "      <th>Ease of Online booking</th>\n",
       "      <td>129880.0</td>\n",
       "      <td>3.472105</td>\n",
       "      <td>1.305560</td>\n",
       "      <td>0.0</td>\n",
       "      <td>2.0</td>\n",
       "      <td>4.0</td>\n",
       "      <td>5.0</td>\n",
       "      <td>5.0</td>\n",
       "    </tr>\n",
       "    <tr>\n",
       "      <th>On-board service</th>\n",
       "      <td>129880.0</td>\n",
       "      <td>3.465075</td>\n",
       "      <td>1.270836</td>\n",
       "      <td>0.0</td>\n",
       "      <td>3.0</td>\n",
       "      <td>4.0</td>\n",
       "      <td>4.0</td>\n",
       "      <td>5.0</td>\n",
       "    </tr>\n",
       "    <tr>\n",
       "      <th>Leg room service</th>\n",
       "      <td>129880.0</td>\n",
       "      <td>3.485902</td>\n",
       "      <td>1.292226</td>\n",
       "      <td>0.0</td>\n",
       "      <td>2.0</td>\n",
       "      <td>4.0</td>\n",
       "      <td>5.0</td>\n",
       "      <td>5.0</td>\n",
       "    </tr>\n",
       "    <tr>\n",
       "      <th>Baggage handling</th>\n",
       "      <td>129880.0</td>\n",
       "      <td>3.695673</td>\n",
       "      <td>1.156483</td>\n",
       "      <td>1.0</td>\n",
       "      <td>3.0</td>\n",
       "      <td>4.0</td>\n",
       "      <td>5.0</td>\n",
       "      <td>5.0</td>\n",
       "    </tr>\n",
       "    <tr>\n",
       "      <th>Checkin service</th>\n",
       "      <td>129880.0</td>\n",
       "      <td>3.340807</td>\n",
       "      <td>1.260582</td>\n",
       "      <td>0.0</td>\n",
       "      <td>3.0</td>\n",
       "      <td>3.0</td>\n",
       "      <td>4.0</td>\n",
       "      <td>5.0</td>\n",
       "    </tr>\n",
       "    <tr>\n",
       "      <th>Cleanliness</th>\n",
       "      <td>129880.0</td>\n",
       "      <td>3.705759</td>\n",
       "      <td>1.151774</td>\n",
       "      <td>0.0</td>\n",
       "      <td>3.0</td>\n",
       "      <td>4.0</td>\n",
       "      <td>5.0</td>\n",
       "      <td>5.0</td>\n",
       "    </tr>\n",
       "    <tr>\n",
       "      <th>Online boarding</th>\n",
       "      <td>129880.0</td>\n",
       "      <td>3.352587</td>\n",
       "      <td>1.298715</td>\n",
       "      <td>0.0</td>\n",
       "      <td>2.0</td>\n",
       "      <td>4.0</td>\n",
       "      <td>4.0</td>\n",
       "      <td>5.0</td>\n",
       "    </tr>\n",
       "    <tr>\n",
       "      <th>Departure Delay in Minutes</th>\n",
       "      <td>129880.0</td>\n",
       "      <td>14.713713</td>\n",
       "      <td>38.071126</td>\n",
       "      <td>0.0</td>\n",
       "      <td>0.0</td>\n",
       "      <td>0.0</td>\n",
       "      <td>12.0</td>\n",
       "      <td>1592.0</td>\n",
       "    </tr>\n",
       "    <tr>\n",
       "      <th>Arrival Delay in Minutes</th>\n",
       "      <td>129487.0</td>\n",
       "      <td>15.091129</td>\n",
       "      <td>38.465650</td>\n",
       "      <td>0.0</td>\n",
       "      <td>0.0</td>\n",
       "      <td>0.0</td>\n",
       "      <td>13.0</td>\n",
       "      <td>1584.0</td>\n",
       "    </tr>\n",
       "  </tbody>\n",
       "</table>\n",
       "</div>"
      ],
      "text/plain": [
       "                                      count         mean          std   min  \\\n",
       "Age                                129880.0    39.427957    15.119360   7.0   \n",
       "Flight Distance                    129880.0  1981.409055  1027.115606  50.0   \n",
       "Seat comfort                       129880.0     2.838597     1.392983   0.0   \n",
       "Departure/Arrival time convenient  129880.0     2.990645     1.527224   0.0   \n",
       "Food and drink                     129880.0     2.851994     1.443729   0.0   \n",
       "Gate location                      129880.0     2.990422     1.305970   0.0   \n",
       "Inflight wifi service              129880.0     3.249130     1.318818   0.0   \n",
       "Inflight entertainment             129880.0     3.383477     1.346059   0.0   \n",
       "Online support                     129880.0     3.519703     1.306511   0.0   \n",
       "Ease of Online booking             129880.0     3.472105     1.305560   0.0   \n",
       "On-board service                   129880.0     3.465075     1.270836   0.0   \n",
       "Leg room service                   129880.0     3.485902     1.292226   0.0   \n",
       "Baggage handling                   129880.0     3.695673     1.156483   1.0   \n",
       "Checkin service                    129880.0     3.340807     1.260582   0.0   \n",
       "Cleanliness                        129880.0     3.705759     1.151774   0.0   \n",
       "Online boarding                    129880.0     3.352587     1.298715   0.0   \n",
       "Departure Delay in Minutes         129880.0    14.713713    38.071126   0.0   \n",
       "Arrival Delay in Minutes           129487.0    15.091129    38.465650   0.0   \n",
       "\n",
       "                                      25%     50%     75%     max  \n",
       "Age                                  27.0    40.0    51.0    85.0  \n",
       "Flight Distance                    1359.0  1925.0  2544.0  6951.0  \n",
       "Seat comfort                          2.0     3.0     4.0     5.0  \n",
       "Departure/Arrival time convenient     2.0     3.0     4.0     5.0  \n",
       "Food and drink                        2.0     3.0     4.0     5.0  \n",
       "Gate location                         2.0     3.0     4.0     5.0  \n",
       "Inflight wifi service                 2.0     3.0     4.0     5.0  \n",
       "Inflight entertainment                2.0     4.0     4.0     5.0  \n",
       "Online support                        3.0     4.0     5.0     5.0  \n",
       "Ease of Online booking                2.0     4.0     5.0     5.0  \n",
       "On-board service                      3.0     4.0     4.0     5.0  \n",
       "Leg room service                      2.0     4.0     5.0     5.0  \n",
       "Baggage handling                      3.0     4.0     5.0     5.0  \n",
       "Checkin service                       3.0     3.0     4.0     5.0  \n",
       "Cleanliness                           3.0     4.0     5.0     5.0  \n",
       "Online boarding                       2.0     4.0     4.0     5.0  \n",
       "Departure Delay in Minutes            0.0     0.0    12.0  1592.0  \n",
       "Arrival Delay in Minutes              0.0     0.0    13.0  1584.0  "
      ]
     },
     "execution_count": 5,
     "metadata": {},
     "output_type": "execute_result"
    }
   ],
   "source": [
    "# Descriptive statistics for numeric features\n",
    "df_original.describe().T"
   ]
  },
  {
   "cell_type": "code",
   "execution_count": 6,
   "id": "ab639117-3a7f-44fd-b2f9-9743d6286473",
   "metadata": {},
   "outputs": [
    {
     "data": {
      "text/plain": [
       "satisfaction                          object\n",
       "Customer Type                         object\n",
       "Age                                    int64\n",
       "Type of Travel                        object\n",
       "Class                                 object\n",
       "Flight Distance                        int64\n",
       "Seat comfort                           int64\n",
       "Departure/Arrival time convenient      int64\n",
       "Food and drink                         int64\n",
       "Gate location                          int64\n",
       "Inflight wifi service                  int64\n",
       "Inflight entertainment                 int64\n",
       "Online support                         int64\n",
       "Ease of Online booking                 int64\n",
       "On-board service                       int64\n",
       "Leg room service                       int64\n",
       "Baggage handling                       int64\n",
       "Checkin service                        int64\n",
       "Cleanliness                            int64\n",
       "Online boarding                        int64\n",
       "Departure Delay in Minutes             int64\n",
       "Arrival Delay in Minutes             float64\n",
       "dtype: object"
      ]
     },
     "execution_count": 6,
     "metadata": {},
     "output_type": "execute_result"
    }
   ],
   "source": [
    "df_original.dtypes"
   ]
  },
  {
   "cell_type": "code",
   "execution_count": 7,
   "id": "b1c925ab-d4c3-4fd1-8d2f-96663949400f",
   "metadata": {},
   "outputs": [
    {
     "data": {
      "text/plain": [
       "satisfaction                         False\n",
       "Customer Type                        False\n",
       "Age                                  False\n",
       "Type of Travel                       False\n",
       "Class                                False\n",
       "Flight Distance                      False\n",
       "Seat comfort                         False\n",
       "Departure/Arrival time convenient    False\n",
       "Food and drink                       False\n",
       "Gate location                        False\n",
       "Inflight wifi service                False\n",
       "Inflight entertainment               False\n",
       "Online support                       False\n",
       "Ease of Online booking               False\n",
       "On-board service                     False\n",
       "Leg room service                     False\n",
       "Baggage handling                     False\n",
       "Checkin service                      False\n",
       "Cleanliness                          False\n",
       "Online boarding                      False\n",
       "Departure Delay in Minutes           False\n",
       "Arrival Delay in Minutes              True\n",
       "dtype: bool"
      ]
     },
     "execution_count": 7,
     "metadata": {},
     "output_type": "execute_result"
    }
   ],
   "source": [
    "df_original.isna().any()"
   ]
  },
  {
   "cell_type": "markdown",
   "id": "34df0c7e-e363-4693-bc0c-25c6b99e9a47",
   "metadata": {},
   "source": [
    "### Step 2: Prepare dataset "
   ]
  },
  {
   "cell_type": "code",
   "execution_count": 8,
   "id": "11e2bf06-8855-4133-8932-ceef69f215cd",
   "metadata": {},
   "outputs": [
    {
     "data": {
      "text/plain": [
       "np.int64(393)"
      ]
     },
     "execution_count": 8,
     "metadata": {},
     "output_type": "execute_result"
    }
   ],
   "source": [
    "df_original['Arrival Delay in Minutes'].isna().sum()"
   ]
  },
  {
   "cell_type": "markdown",
   "id": "5f099084-3a06-4d39-906e-b5e6f54f3a00",
   "metadata": {},
   "source": [
    "There are 393 missing value for 'Arrival Delay in Minutes' feature. Instead of using\n",
    "\n",
    "common mean for this feature, we'll use group mean as per satisfaction feature \n",
    "\n",
    "since this has a direct corelation with flight delay."
   ]
  },
  {
   "cell_type": "code",
   "execution_count": 9,
   "id": "6489baa9-f31c-4327-a06c-a2cfe39f91e9",
   "metadata": {},
   "outputs": [
    {
     "data": {
      "text/plain": [
       "satisfaction\n",
       "dissatisfied    18.504599\n",
       "satisfied       12.268883\n",
       "Name: Arrival Delay in Minutes, dtype: float64"
      ]
     },
     "execution_count": 9,
     "metadata": {},
     "output_type": "execute_result"
    }
   ],
   "source": [
    "# Impute group mean based on satisfaction status \n",
    "mean_arrival_delay = df_original.groupby('satisfaction')['Arrival Delay in Minutes'].mean()\n",
    "mean_arrival_delay"
   ]
  },
  {
   "cell_type": "code",
   "execution_count": 10,
   "id": "4270f890-97d2-4a2b-9412-727536a3a1e0",
   "metadata": {},
   "outputs": [],
   "source": [
    "df_imputed = df_original.copy(deep=True)"
   ]
  },
  {
   "cell_type": "code",
   "execution_count": 11,
   "id": "4b23287f-7257-4109-8d69-dc291c651b4f",
   "metadata": {},
   "outputs": [],
   "source": [
    "# Missing value imputation as per group mean\n",
    "for index in mean_arrival_delay.index:\n",
    "    df_imputed.loc[(df_imputed['Arrival Delay in Minutes'].isna()) & \n",
    "    (df_imputed['satisfaction']==index), 'Arrival Delay in Minutes'] = mean_arrival_delay[index]"
   ]
  },
  {
   "cell_type": "code",
   "execution_count": 12,
   "id": "3e189725-c8ed-4ae5-ab9d-c0b41b7405c1",
   "metadata": {},
   "outputs": [
    {
     "data": {
      "text/plain": [
       "count    129880.000000\n",
       "mean         15.091615\n",
       "std          38.407793\n",
       "min           0.000000\n",
       "25%           0.000000\n",
       "50%           0.000000\n",
       "75%          13.000000\n",
       "max        1584.000000\n",
       "Name: Arrival Delay in Minutes, dtype: float64"
      ]
     },
     "execution_count": 12,
     "metadata": {},
     "output_type": "execute_result"
    }
   ],
   "source": [
    "df_imputed['Arrival Delay in Minutes'].describe()"
   ]
  },
  {
   "cell_type": "markdown",
   "id": "35e04f04-0a27-4b3f-96a2-0313c9ed3e2e",
   "metadata": {},
   "source": [
    "#### Transform features"
   ]
  },
  {
   "cell_type": "markdown",
   "id": "e9e1d433-2975-4e92-9eed-ec664a8e2543",
   "metadata": {},
   "source": [
    "There are four categorical features including the target varable that have to transformed."
   ]
  },
  {
   "cell_type": "code",
   "execution_count": 13,
   "id": "fce41cc1-b557-4def-a6e1-04f76850c848",
   "metadata": {},
   "outputs": [],
   "source": [
    "# Transform categorical features into dummy variables\n",
    "cat_cols = ['satisfaction','Customer Type','Type of Travel','Class']\n",
    "df_dummies = pd.get_dummies(df_imputed, columns=cat_cols, drop_first=True)"
   ]
  },
  {
   "cell_type": "code",
   "execution_count": 14,
   "id": "a8139cf3-07f6-476b-b733-754e6ce4bbc7",
   "metadata": {},
   "outputs": [
    {
     "data": {
      "text/html": [
       "<div>\n",
       "<style scoped>\n",
       "    .dataframe tbody tr th:only-of-type {\n",
       "        vertical-align: middle;\n",
       "    }\n",
       "\n",
       "    .dataframe tbody tr th {\n",
       "        vertical-align: top;\n",
       "    }\n",
       "\n",
       "    .dataframe thead th {\n",
       "        text-align: right;\n",
       "    }\n",
       "</style>\n",
       "<table border=\"1\" class=\"dataframe\">\n",
       "  <thead>\n",
       "    <tr style=\"text-align: right;\">\n",
       "      <th></th>\n",
       "      <th>Age</th>\n",
       "      <th>Flight Distance</th>\n",
       "      <th>Seat comfort</th>\n",
       "      <th>Departure/Arrival time convenient</th>\n",
       "      <th>Food and drink</th>\n",
       "      <th>Gate location</th>\n",
       "      <th>Inflight wifi service</th>\n",
       "      <th>Inflight entertainment</th>\n",
       "      <th>Online support</th>\n",
       "      <th>Ease of Online booking</th>\n",
       "      <th>...</th>\n",
       "      <th>Checkin service</th>\n",
       "      <th>Cleanliness</th>\n",
       "      <th>Online boarding</th>\n",
       "      <th>Departure Delay in Minutes</th>\n",
       "      <th>Arrival Delay in Minutes</th>\n",
       "      <th>satisfaction_satisfied</th>\n",
       "      <th>Customer Type_disloyal Customer</th>\n",
       "      <th>Type of Travel_Personal Travel</th>\n",
       "      <th>Class_Eco</th>\n",
       "      <th>Class_Eco Plus</th>\n",
       "    </tr>\n",
       "  </thead>\n",
       "  <tbody>\n",
       "    <tr>\n",
       "      <th>0</th>\n",
       "      <td>65</td>\n",
       "      <td>265</td>\n",
       "      <td>0</td>\n",
       "      <td>0</td>\n",
       "      <td>0</td>\n",
       "      <td>2</td>\n",
       "      <td>2</td>\n",
       "      <td>4</td>\n",
       "      <td>2</td>\n",
       "      <td>3</td>\n",
       "      <td>...</td>\n",
       "      <td>5</td>\n",
       "      <td>3</td>\n",
       "      <td>2</td>\n",
       "      <td>0</td>\n",
       "      <td>0.0</td>\n",
       "      <td>True</td>\n",
       "      <td>False</td>\n",
       "      <td>True</td>\n",
       "      <td>True</td>\n",
       "      <td>False</td>\n",
       "    </tr>\n",
       "    <tr>\n",
       "      <th>1</th>\n",
       "      <td>47</td>\n",
       "      <td>2464</td>\n",
       "      <td>0</td>\n",
       "      <td>0</td>\n",
       "      <td>0</td>\n",
       "      <td>3</td>\n",
       "      <td>0</td>\n",
       "      <td>2</td>\n",
       "      <td>2</td>\n",
       "      <td>3</td>\n",
       "      <td>...</td>\n",
       "      <td>2</td>\n",
       "      <td>3</td>\n",
       "      <td>2</td>\n",
       "      <td>310</td>\n",
       "      <td>305.0</td>\n",
       "      <td>True</td>\n",
       "      <td>False</td>\n",
       "      <td>True</td>\n",
       "      <td>False</td>\n",
       "      <td>False</td>\n",
       "    </tr>\n",
       "    <tr>\n",
       "      <th>2</th>\n",
       "      <td>15</td>\n",
       "      <td>2138</td>\n",
       "      <td>0</td>\n",
       "      <td>0</td>\n",
       "      <td>0</td>\n",
       "      <td>3</td>\n",
       "      <td>2</td>\n",
       "      <td>0</td>\n",
       "      <td>2</td>\n",
       "      <td>2</td>\n",
       "      <td>...</td>\n",
       "      <td>4</td>\n",
       "      <td>4</td>\n",
       "      <td>2</td>\n",
       "      <td>0</td>\n",
       "      <td>0.0</td>\n",
       "      <td>True</td>\n",
       "      <td>False</td>\n",
       "      <td>True</td>\n",
       "      <td>True</td>\n",
       "      <td>False</td>\n",
       "    </tr>\n",
       "    <tr>\n",
       "      <th>3</th>\n",
       "      <td>60</td>\n",
       "      <td>623</td>\n",
       "      <td>0</td>\n",
       "      <td>0</td>\n",
       "      <td>0</td>\n",
       "      <td>3</td>\n",
       "      <td>3</td>\n",
       "      <td>4</td>\n",
       "      <td>3</td>\n",
       "      <td>1</td>\n",
       "      <td>...</td>\n",
       "      <td>4</td>\n",
       "      <td>1</td>\n",
       "      <td>3</td>\n",
       "      <td>0</td>\n",
       "      <td>0.0</td>\n",
       "      <td>True</td>\n",
       "      <td>False</td>\n",
       "      <td>True</td>\n",
       "      <td>True</td>\n",
       "      <td>False</td>\n",
       "    </tr>\n",
       "    <tr>\n",
       "      <th>4</th>\n",
       "      <td>70</td>\n",
       "      <td>354</td>\n",
       "      <td>0</td>\n",
       "      <td>0</td>\n",
       "      <td>0</td>\n",
       "      <td>3</td>\n",
       "      <td>4</td>\n",
       "      <td>3</td>\n",
       "      <td>4</td>\n",
       "      <td>2</td>\n",
       "      <td>...</td>\n",
       "      <td>4</td>\n",
       "      <td>2</td>\n",
       "      <td>5</td>\n",
       "      <td>0</td>\n",
       "      <td>0.0</td>\n",
       "      <td>True</td>\n",
       "      <td>False</td>\n",
       "      <td>True</td>\n",
       "      <td>True</td>\n",
       "      <td>False</td>\n",
       "    </tr>\n",
       "  </tbody>\n",
       "</table>\n",
       "<p>5 rows × 23 columns</p>\n",
       "</div>"
      ],
      "text/plain": [
       "   Age  Flight Distance  Seat comfort  Departure/Arrival time convenient  \\\n",
       "0   65              265             0                                  0   \n",
       "1   47             2464             0                                  0   \n",
       "2   15             2138             0                                  0   \n",
       "3   60              623             0                                  0   \n",
       "4   70              354             0                                  0   \n",
       "\n",
       "   Food and drink  Gate location  Inflight wifi service  \\\n",
       "0               0              2                      2   \n",
       "1               0              3                      0   \n",
       "2               0              3                      2   \n",
       "3               0              3                      3   \n",
       "4               0              3                      4   \n",
       "\n",
       "   Inflight entertainment  Online support  Ease of Online booking  ...  \\\n",
       "0                       4               2                       3  ...   \n",
       "1                       2               2                       3  ...   \n",
       "2                       0               2                       2  ...   \n",
       "3                       4               3                       1  ...   \n",
       "4                       3               4                       2  ...   \n",
       "\n",
       "   Checkin service  Cleanliness  Online boarding  Departure Delay in Minutes  \\\n",
       "0                5            3                2                           0   \n",
       "1                2            3                2                         310   \n",
       "2                4            4                2                           0   \n",
       "3                4            1                3                           0   \n",
       "4                4            2                5                           0   \n",
       "\n",
       "   Arrival Delay in Minutes  satisfaction_satisfied  \\\n",
       "0                       0.0                    True   \n",
       "1                     305.0                    True   \n",
       "2                       0.0                    True   \n",
       "3                       0.0                    True   \n",
       "4                       0.0                    True   \n",
       "\n",
       "   Customer Type_disloyal Customer  Type of Travel_Personal Travel  Class_Eco  \\\n",
       "0                            False                            True       True   \n",
       "1                            False                            True      False   \n",
       "2                            False                            True       True   \n",
       "3                            False                            True       True   \n",
       "4                            False                            True       True   \n",
       "\n",
       "   Class_Eco Plus  \n",
       "0           False  \n",
       "1           False  \n",
       "2           False  \n",
       "3           False  \n",
       "4           False  \n",
       "\n",
       "[5 rows x 23 columns]"
      ]
     },
     "execution_count": 14,
     "metadata": {},
     "output_type": "execute_result"
    }
   ],
   "source": [
    "df_dummies.head()"
   ]
  },
  {
   "cell_type": "code",
   "execution_count": 15,
   "id": "93c6075f-bc1d-4d2d-acab-a817d28b7efe",
   "metadata": {},
   "outputs": [],
   "source": [
    "# Define y (target) variable\n",
    "y = df_dummies['satisfaction_satisfied']\n",
    "\n",
    "# Define X (predictor) variables\n",
    "X = df_dummies.drop(columns=['satisfaction_satisfied'])"
   ]
  },
  {
   "cell_type": "code",
   "execution_count": 16,
   "id": "5eef0ec4-2e4d-4c9b-8a01-51b8af2e90ca",
   "metadata": {},
   "outputs": [],
   "source": [
    "# Split dataset for training, validation and testing\n",
    "X_train, X_test, y_train, y_test = train_test_split(X, y, test_size=0.25, \n",
    "                                                    stratify=y, random_state=42)\n",
    "X_tr, X_val, y_tr, y_val = train_test_split(X_train, y_train, test_size=0.25,\n",
    "                                            stratify=y_train, random_state=42)"
   ]
  },
  {
   "cell_type": "markdown",
   "id": "fb4d1f4f-39fb-4fdb-b2fc-4efc7ebec950",
   "metadata": {},
   "source": [
    "### Step 3: Model Building"
   ]
  },
  {
   "cell_type": "code",
   "execution_count": 17,
   "id": "39abb03e-5224-4f1a-aed3-4245785a8bb1",
   "metadata": {},
   "outputs": [],
   "source": [
    "xgb = XGBClassifier(object='binary:logistic', sample=0.4, random_state=42)"
   ]
  },
  {
   "cell_type": "code",
   "execution_count": 18,
   "id": "df3fcf32-65b0-4381-b023-8c8317827b16",
   "metadata": {},
   "outputs": [],
   "source": [
    "params = {'n_estimators': [50, 75, 100],\n",
    "          'max_depth': [5, 7],\n",
    "          'learning_rate': [0.1, 0.2],\n",
    "          'colsample_bytree': [0.5, 0.7]\n",
    "          }"
   ]
  },
  {
   "cell_type": "code",
   "execution_count": 19,
   "id": "554f442d-b351-411b-af3d-eb9bf20eb100",
   "metadata": {},
   "outputs": [],
   "source": [
    "scoring = ['accuracy', 'precision', 'recall', 'f1']"
   ]
  },
  {
   "cell_type": "code",
   "execution_count": 20,
   "id": "50023ccb-a4fa-4d95-b959-5801e27516d8",
   "metadata": {},
   "outputs": [],
   "source": [
    "xgb_cv = GridSearchCV(estimator=xgb, param_grid=params,\n",
    "                      scoring=scoring, cv=5, refit='f1')"
   ]
  },
  {
   "cell_type": "code",
   "execution_count": 21,
   "id": "6a74f74b-05c9-4881-a2b0-7049c732fee0",
   "metadata": {},
   "outputs": [],
   "source": [
    "# %%time\n",
    "# xgb_cv.fit(X_train, y_train)"
   ]
  },
  {
   "cell_type": "markdown",
   "id": "3ddaf0a2-cf95-497a-b3f3-81c721e4839d",
   "metadata": {},
   "source": [
    "### Save the optimized model parameters"
   ]
  },
  {
   "cell_type": "code",
   "execution_count": 22,
   "id": "63a82b2a-1ff9-4b54-9de8-c1c870085277",
   "metadata": {},
   "outputs": [],
   "source": [
    "# pickle.dump(xgb_cv, open('xgb_cv_model.pkl', 'wb'))"
   ]
  },
  {
   "cell_type": "code",
   "execution_count": 23,
   "id": "d57d9966-01bb-4cdf-8ec6-b1700cad7400",
   "metadata": {},
   "outputs": [],
   "source": [
    "xgb_cv_model = pickle.load(open('xgb_model.pkl', 'rb'))"
   ]
  },
  {
   "cell_type": "markdown",
   "id": "d705b70e-68d5-4427-a192-bad13526b943",
   "metadata": {},
   "source": [
    "### Step 4: Model Evaluation "
   ]
  },
  {
   "cell_type": "code",
   "execution_count": 24,
   "id": "e55464ab-470d-426e-b42e-39052b500bbe",
   "metadata": {},
   "outputs": [],
   "source": [
    "y_pred_cv = xgb_cv_model.predict(X_test)"
   ]
  },
  {
   "cell_type": "code",
   "execution_count": 25,
   "id": "4d3dd30a-3f88-4418-ada3-db19eb17b7a4",
   "metadata": {},
   "outputs": [],
   "source": [
    "acc_cv = accuracy_score(y_test, y_pred_cv)\n",
    "prec_cv = precision_score(y_test, y_pred_cv)\n",
    "rec_cv = recall_score(y_test, y_pred_cv)\n",
    "f1_cv = f1_score(y_test, y_pred_cv)"
   ]
  },
  {
   "cell_type": "code",
   "execution_count": 26,
   "id": "5507e2a2-2a48-4906-b8aa-cbe40475cf13",
   "metadata": {},
   "outputs": [
    {
     "name": "stdout",
     "output_type": "stream",
     "text": [
      "Accuracy: 0.957\n",
      "Precision: 0.969\n",
      "Recall: 0.952\n",
      "F1 Score: 0.96\n"
     ]
    }
   ],
   "source": [
    "print(f\"Accuracy: {round(acc_cv, 3)}\")\n",
    "print(f\"Precision: {round(prec_cv, 3)}\")\n",
    "print(f\"Recall: {round(rec_cv, 3)}\")\n",
    "print(f\"F1 Score: {round(f1_cv, 3)}\")"
   ]
  },
  {
   "cell_type": "code",
   "execution_count": 27,
   "id": "24a65671-da80-4a34-ab23-824f730ee045",
   "metadata": {},
   "outputs": [
    {
     "data": {
      "text/html": [
       "<div>\n",
       "<style scoped>\n",
       "    .dataframe tbody tr th:only-of-type {\n",
       "        vertical-align: middle;\n",
       "    }\n",
       "\n",
       "    .dataframe tbody tr th {\n",
       "        vertical-align: top;\n",
       "    }\n",
       "\n",
       "    .dataframe thead th {\n",
       "        text-align: right;\n",
       "    }\n",
       "</style>\n",
       "<table border=\"1\" class=\"dataframe\">\n",
       "  <thead>\n",
       "    <tr style=\"text-align: right;\">\n",
       "      <th></th>\n",
       "      <th>Satisfied</th>\n",
       "      <th>Dissatisfied</th>\n",
       "    </tr>\n",
       "  </thead>\n",
       "  <tbody>\n",
       "    <tr>\n",
       "      <th>Satisfied</th>\n",
       "      <td>16926</td>\n",
       "      <td>846</td>\n",
       "    </tr>\n",
       "    <tr>\n",
       "      <th>Dissatisfied</th>\n",
       "      <td>549</td>\n",
       "      <td>14149</td>\n",
       "    </tr>\n",
       "  </tbody>\n",
       "</table>\n",
       "</div>"
      ],
      "text/plain": [
       "              Satisfied  Dissatisfied\n",
       "Satisfied         16926           846\n",
       "Dissatisfied        549         14149"
      ]
     },
     "execution_count": 27,
     "metadata": {},
     "output_type": "execute_result"
    }
   ],
   "source": [
    "cm_cv = confusion_matrix(y_test, y_pred_cv, labels=[1, 0])\n",
    "cm_cv_df = pd.DataFrame(cm_cv, columns=['Satisfied', 'Dissatisfied'], index=['Satisfied', 'Dissatisfied'])\n",
    "cm_cv_df"
   ]
  },
  {
   "cell_type": "code",
   "execution_count": 28,
   "id": "36302f60-5368-4268-9bcb-e44ceefa75de",
   "metadata": {},
   "outputs": [
    {
     "data": {
      "text/plain": [
       "Text(45.72222222222221, 0.5, 'Actual Class\\n')"
      ]
     },
     "execution_count": 28,
     "metadata": {},
     "output_type": "execute_result"
    },
    {
     "data": {
      "image/png": "[encoded data removed]",
      "text/plain": [
       "<Figure size 600x400 with 2 Axes>"
      ]
     },
     "metadata": {},
     "output_type": "display_data"
    }
   ],
   "source": [
    "plt.figure(figsize=(6, 4))\n",
    "p = sns.heatmap(cm_cv_df, cmap='Blues', annot=True, fmt='g')\n",
    "plt.title('Confusion Matrix\\n')\n",
    "plt.xlabel('\\nPredicted Class')\n",
    "plt.ylabel('Actual Class\\n')"
   ]
  },
  {
   "cell_type": "code",
   "execution_count": 29,
   "id": "9d660965-b4e3-47d4-9146-e366a4c80f68",
   "metadata": {},
   "outputs": [
    {
     "data": {
      "text/plain": [
       "<Axes: title={'center': 'Feature importance'}, xlabel='F score', ylabel='Features'>"
      ]
     },
     "execution_count": 29,
     "metadata": {},
     "output_type": "execute_result"
    },
    {
     "data": {
      "image/png": "[encoded data removed]",
      "text/plain": [
       "<Figure size 640x480 with 1 Axes>"
      ]
     },
     "metadata": {},
     "output_type": "display_data"
    }
   ],
   "source": [
    "plot_importance(xgb_cv_model.best_estimator_)"
   ]
  },
  {
   "cell_type": "markdown",
   "id": "6d94831a-2db9-4d44-896a-5d3e85d7907a",
   "metadata": {},
   "source": [
    "### Use single validation set instead of cross validation"
   ]
  },
  {
   "cell_type": "code",
   "execution_count": 30,
   "id": "777ef02b-23e7-459f-b985-d1f776cfbe72",
   "metadata": {},
   "outputs": [],
   "source": [
    "# Create list of split indices for validation dataset\n",
    "split_ind = [0 if x in X_val.index else -1 for x in X_train.index ]"
   ]
  },
  {
   "cell_type": "code",
   "execution_count": 31,
   "id": "1add862a-0ec8-4d98-8ff8-38d5ad71218b",
   "metadata": {},
   "outputs": [],
   "source": [
    "custom_split = PredefinedSplit(split_ind)"
   ]
  },
  {
   "cell_type": "code",
   "execution_count": 32,
   "id": "6349738f-fcbf-40e4-98f0-d98b4b378995",
   "metadata": {},
   "outputs": [],
   "source": [
    "grid_val = GridSearchCV(xgb, params, scoring=scoring, cv=custom_split, refit='f1')"
   ]
  },
  {
   "cell_type": "code",
   "execution_count": 33,
   "id": "00c79ada-9ffc-4231-b531-b34c4ff6ab5e",
   "metadata": {},
   "outputs": [],
   "source": [
    "# %%time\n",
    "# grid_val.fit(X_train, y_train)"
   ]
  },
  {
   "cell_type": "code",
   "execution_count": 34,
   "id": "e8152bca-86a1-4369-b098-36b1f0d81763",
   "metadata": {},
   "outputs": [],
   "source": [
    "#pickle.dump(grid_val, open('xgb_val_model.pkl', 'wb'))\n",
    "xgb_val_model = pickle.load(open('xgb_val_model.pkl', 'rb'))"
   ]
  },
  {
   "cell_type": "code",
   "execution_count": 35,
   "id": "f11c19aa-e35e-4646-abe9-3371d75bcd61",
   "metadata": {},
   "outputs": [],
   "source": [
    "y_pred_val = xgb_val_model.predict(X_test)"
   ]
  },
  {
   "cell_type": "code",
   "execution_count": 36,
   "id": "8d0960c7-bc89-42d3-9994-96c9359a8971",
   "metadata": {},
   "outputs": [],
   "source": [
    "acc_val = accuracy_score(y_test, y_pred_val)\n",
    "prec_val = precision_score(y_test, y_pred_val)\n",
    "rec_val = recall_score(y_test, y_pred_val)\n",
    "f1_val = f1_score(y_test, y_pred_val)"
   ]
  },
  {
   "cell_type": "code",
   "execution_count": 37,
   "id": "0a5257b0-fc9a-4ece-97f9-eb0342a8f5a4",
   "metadata": {},
   "outputs": [
    {
     "data": {
      "text/html": [
       "<div>\n",
       "<style scoped>\n",
       "    .dataframe tbody tr th:only-of-type {\n",
       "        vertical-align: middle;\n",
       "    }\n",
       "\n",
       "    .dataframe tbody tr th {\n",
       "        vertical-align: top;\n",
       "    }\n",
       "\n",
       "    .dataframe thead th {\n",
       "        text-align: right;\n",
       "    }\n",
       "</style>\n",
       "<table border=\"1\" class=\"dataframe\">\n",
       "  <thead>\n",
       "    <tr style=\"text-align: right;\">\n",
       "      <th></th>\n",
       "      <th>Training Method</th>\n",
       "      <th>Accuracy</th>\n",
       "      <th>Precision</th>\n",
       "      <th>Recall</th>\n",
       "      <th>F1 Score</th>\n",
       "    </tr>\n",
       "  </thead>\n",
       "  <tbody>\n",
       "    <tr>\n",
       "      <th>1</th>\n",
       "      <td>Cross Validation</td>\n",
       "      <td>0.957037</td>\n",
       "      <td>0.968584</td>\n",
       "      <td>0.952397</td>\n",
       "      <td>0.960422</td>\n",
       "    </tr>\n",
       "    <tr>\n",
       "      <th>2</th>\n",
       "      <td>Single Validation</td>\n",
       "      <td>0.955744</td>\n",
       "      <td>0.967757</td>\n",
       "      <td>0.950822</td>\n",
       "      <td>0.959214</td>\n",
       "    </tr>\n",
       "  </tbody>\n",
       "</table>\n",
       "</div>"
      ],
      "text/plain": [
       "     Training Method  Accuracy  Precision    Recall  F1 Score\n",
       "1   Cross Validation  0.957037   0.968584  0.952397  0.960422\n",
       "2  Single Validation  0.955744   0.967757  0.950822  0.959214"
      ]
     },
     "execution_count": 37,
     "metadata": {},
     "output_type": "execute_result"
    }
   ],
   "source": [
    "df_result = pd.DataFrame(data={'Training Method': ['Cross Validation', 'Single Validation'],\n",
    "                          'Accuracy': [acc_cv, acc_val],\n",
    "                          'Precision': [prec_cv, prec_val],\n",
    "                          'Recall': [rec_cv, rec_val],\n",
    "                          'F1 Score': [f1_cv, f1_val]\n",
    "                         }, index=[1, 2])\n",
    "df_result.sort_values(by='F1 Score', ascending=False)"
   ]
  },
  {
   "cell_type": "code",
   "execution_count": 39,
   "id": "22372ff3-aa90-4436-8b5d-86c7637b4260",
   "metadata": {},
   "outputs": [
    {
     "data": {
      "text/plain": [
       "<Axes: title={'center': 'Feature importance'}, xlabel='F score', ylabel='Features'>"
      ]
     },
     "execution_count": 39,
     "metadata": {},
     "output_type": "execute_result"
    },
    {
     "data": {
      "image/png": "[encoded data removed]",
      "text/plain": [
       "<Figure size 640x480 with 1 Axes>"
      ]
     },
     "metadata": {},
     "output_type": "display_data"
    }
   ],
   "source": [
    "plot_importance(xgb_val_model.best_estimator_)"
   ]
  },
  {
   "cell_type": "markdown",
   "id": "9c93e7c5-6d6b-4ba8-8ce8-83b581d1de0c",
   "metadata": {},
   "source": [
    "### Step 5: Analysis of the Final Result\n",
    "Here two variants of XGBoost implementation are performed. Firstly, the model hyperparameters values are chosen applying randomSearchCV with 5-fold cross validation technique. On the otherhand the second model was trained with hyperparameter values chosen by using a single validation dataset to save training time. It is oberseved that the formmer technique marginally outperforms the latter one while both techniques produce very high performance, i.e. above 95% F1 score. Flight distance and age appear to be two most important features for splitting nodes in the base learner models. With very impressive performances, either of the models are recommened to deploy for measuring the airline's customer satisfaction.  "
   ]
  }
 ],
 "metadata": {
  "kernelspec": {
   "display_name": "Python 3 (ipykernel)",
   "language": "python",
   "name": "python3"
  },
  "language_info": {
   "codemirror_mode": {
    "name": "ipython",
    "version": 3
   },
   "file_extension": ".py",
   "mimetype": "text/x-python",
   "name": "python",
   "nbconvert_exporter": "python",
   "pygments_lexer": "ipython3",
   "version": "3.12.6"
  }
 },
 "nbformat": 4,
 "nbformat_minor": 5
}
